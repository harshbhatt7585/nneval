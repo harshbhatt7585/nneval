{
 "cells": [
  {
   "cell_type": "markdown",
   "metadata": {},
   "source": [
    "##  Human & Preference-Based Evaluation"
   ]
  },
  {
   "cell_type": "markdown",
   "metadata": {},
   "source": [
    "Automated metrics don’t always align with human judgments, so LLM evaluation requires human feedback.\n",
    "\n",
    "2.1 Human Rating Scales\n",
    "\n",
    "Likert Scale – 1 to 5 rating for fluency, coherence, etc.\n",
    "\n",
    "Ranking-based Evaluation – Compare multiple outputs and rank them.\n"
   ]
  },
  {
   "cell_type": "markdown",
   "metadata": {},
   "source": [
    "Likert Scale – 1 to 5 Rating <br>\n",
    "Human evaluators rate text quality on a 1 to 5 scale based on:<br>\n",
    "\t•\tFluency: Is the text grammatically correct?<br>\n",
    "\t•\tCoherence: Does it make sense in context?<br>\n",
    "\t•\tRelevance: Does it answer the question or match the task?<br>"
   ]
  },
  {
   "cell_type": "code",
   "execution_count": 1,
   "metadata": {},
   "outputs": [
    {
     "name": "stdout",
     "output_type": "stream",
     "text": [
      "\n",
      "[1] Generated Text: The cat sits on the mat.\n",
      "\n",
      "[2] Generated Text: Cat mat on sits.\n",
      "\n",
      "[3] Generated Text: A feline is resting on a carpet.\n",
      "\n",
      "**Ranked Outputs (Best to Worst):**\n",
      "1. Cat mat on sits. (Avg Score: 5.00)\n",
      "2. A feline is resting on a carpet. (Avg Score: 3.67)\n",
      "3. The cat sits on the mat. (Avg Score: 3.33)\n"
     ]
    }
   ],
   "source": [
    "def collect_human_ratings():\n",
    "    outputs = [\n",
    "        \"The cat sits on the mat.\",\n",
    "        \"Cat mat on sits.\",\n",
    "        \"A feline is resting on a carpet.\"\n",
    "    ]\n",
    "    \n",
    "    scores = []\n",
    "    for idx, output in enumerate(outputs):\n",
    "        print(f\"\\n[{idx + 1}] Generated Text: {output}\")\n",
    "        fluency = int(input(\"Rate Fluency (1-5): \"))\n",
    "        coherence = int(input(\"Rate Coherence (1-5): \"))\n",
    "        relevance = int(input(\"Rate Relevance (1-5): \"))\n",
    "        \n",
    "        avg_score = (fluency + coherence + relevance) / 3\n",
    "        scores.append((output, avg_score))\n",
    "    \n",
    "    scores.sort(key=lambda x: x[1], reverse=True)\n",
    "    print(\"\\n**Ranked Outputs (Best to Worst):**\")\n",
    "    for rank, (text, score) in enumerate(scores, start=1):\n",
    "        print(f\"{rank}. {text} (Avg Score: {score:.2f})\")\n",
    "\n",
    "# Run the human evaluation collection\n",
    "collect_human_ratings()"
   ]
  },
  {
   "cell_type": "markdown",
   "metadata": {},
   "source": [
    "Ranking-Based Evaluation\n",
    "\n",
    "Instead of assigning numerical scores, humans compare multiple outputs and rank them in order of preference.\n",
    "\n",
    "Example: Comparing Model Outputs"
   ]
  },
  {
   "cell_type": "code",
   "execution_count": 2,
   "metadata": {},
   "outputs": [
    {
     "name": "stdout",
     "output_type": "stream",
     "text": [
      "\n",
      "Choose the better response:\n",
      "[1] Climate change means the planet is getting hotter due to pollution, affecting weather and ecosystems.\n",
      "[2] Global warming increases CO2 levels, causing environmental changes.\n",
      "\n",
      "Choose the better response:\n",
      "[1] Climate change means the planet is getting hotter due to pollution, affecting weather and ecosystems.\n",
      "[2] Rising heat is bad.\n",
      "\n",
      "Choose the better response:\n",
      "[1] Global warming increases CO2 levels, causing environmental changes.\n",
      "[2] Rising heat is bad.\n",
      "\n",
      "**Final Ranking:**\n",
      "1. Climate change means the planet is getting hotter due to pollution, affecting weather and ecosystems. (Wins: 2)\n",
      "2. Global warming increases CO2 levels, causing environmental changes. (Wins: 1)\n",
      "3. Rising heat is bad. (Wins: 0)\n"
     ]
    }
   ],
   "source": [
    "def compare_outputs():\n",
    "    outputs = [\n",
    "        \"Climate change means the planet is getting hotter due to pollution, affecting weather and ecosystems.\",\n",
    "        \"Global warming increases CO2 levels, causing environmental changes.\",\n",
    "        \"Rising heat is bad.\"\n",
    "    ]\n",
    "    \n",
    "    rankings = []\n",
    "    for i in range(len(outputs)):\n",
    "        for j in range(i + 1, len(outputs)):\n",
    "            print(f\"\\nChoose the better response:\\n[1] {outputs[i]}\\n[2] {outputs[j]}\")\n",
    "            choice = int(input(\"Enter 1 or 2: \"))\n",
    "            rankings.append((outputs[i], outputs[j], choice))\n",
    "    \n",
    "    # Count wins and rank outputs\n",
    "    scores = {output: 0 for output in outputs}\n",
    "    for output1, output2, choice in rankings:\n",
    "        if choice == 1:\n",
    "            scores[output1] += 1\n",
    "        else:\n",
    "            scores[output2] += 1\n",
    "    \n",
    "    # Sort outputs by ranking\n",
    "    sorted_outputs = sorted(scores.items(), key=lambda x: x[1], reverse=True)\n",
    "    \n",
    "    print(\"\\n**Final Ranking:**\")\n",
    "    for rank, (text, score) in enumerate(sorted_outputs, start=1):\n",
    "        print(f\"{rank}. {text} (Wins: {score})\")\n",
    "\n",
    "# Run pairwise ranking\n",
    "compare_outputs()"
   ]
  },
  {
   "cell_type": "code",
   "execution_count": null,
   "metadata": {},
   "outputs": [],
   "source": []
  },
  {
   "cell_type": "markdown",
   "metadata": {},
   "source": [
    "2.2 Reinforcement Learning from Human Feedback (RLHF)\n",
    "\n",
    "Collect human preference data (A > B style ranking).\n",
    "\n",
    "Train a reward model on this data.\n",
    "\n",
    "Fine-tune LLMs using RL with PPO (Proximal Policy Optimization)."
   ]
  },
  {
   "cell_type": "markdown",
   "metadata": {},
   "source": [
    "LLMs like ChatGPT improve using Reinforcement Learning with Human Feedback (RLHF).\n",
    "\n",
    "📌 Steps in RLHF\n",
    "\n",
    "1️⃣ Collect Human Preferences\n",
    "\t•\tShow humans two model outputs (A & B) for the same prompt.\n",
    "\t•\tAsk them to choose the better one.\n",
    "\n",
    "2️⃣ Train a Reward Model\n",
    "\t•\tConvert human choices into training data.\n",
    "\t•\tTrain a reward model that predicts which output is better.\n",
    "\n",
    "3️⃣ Fine-Tune LLM Using RL (PPO Algorithm)\n",
    "\t•\tUse Proximal Policy Optimization (PPO) to fine-tune the model.\n",
    "\t•\tThe model maximizes human preference scores while avoiding degeneration."
   ]
  },
  {
   "cell_type": "code",
   "execution_count": 3,
   "metadata": {},
   "outputs": [
    {
     "name": "stdout",
     "output_type": "stream",
     "text": [
      "Collecting trl\n",
      "  Downloading trl-0.15.2-py3-none-any.whl.metadata (11 kB)\n",
      "Requirement already satisfied: torch in /Users/harshbhatt/miniconda3/envs/qunta-backend/lib/python3.11/site-packages (2.5.1)\n",
      "Requirement already satisfied: transformers in /Users/harshbhatt/miniconda3/envs/qunta-backend/lib/python3.11/site-packages (4.47.1)\n",
      "Requirement already satisfied: accelerate in /Users/harshbhatt/miniconda3/envs/qunta-backend/lib/python3.11/site-packages (1.2.1)\n",
      "Collecting datasets\n",
      "  Using cached datasets-3.3.2-py3-none-any.whl.metadata (19 kB)\n",
      "Requirement already satisfied: rich in /Users/harshbhatt/miniconda3/envs/qunta-backend/lib/python3.11/site-packages (from trl) (13.9.4)\n",
      "Requirement already satisfied: filelock in /Users/harshbhatt/miniconda3/envs/qunta-backend/lib/python3.11/site-packages (from torch) (3.17.0)\n",
      "Requirement already satisfied: typing-extensions>=4.8.0 in /Users/harshbhatt/miniconda3/envs/qunta-backend/lib/python3.11/site-packages (from torch) (4.12.2)\n",
      "Requirement already satisfied: networkx in /Users/harshbhatt/miniconda3/envs/qunta-backend/lib/python3.11/site-packages (from torch) (3.4.2)\n",
      "Requirement already satisfied: jinja2 in /Users/harshbhatt/miniconda3/envs/qunta-backend/lib/python3.11/site-packages (from torch) (3.1.4)\n",
      "Requirement already satisfied: fsspec in /Users/harshbhatt/miniconda3/envs/qunta-backend/lib/python3.11/site-packages (from torch) (2024.6.1)\n",
      "Requirement already satisfied: sympy==1.13.1 in /Users/harshbhatt/miniconda3/envs/qunta-backend/lib/python3.11/site-packages (from torch) (1.13.1)\n",
      "Requirement already satisfied: mpmath<1.4,>=1.1.0 in /Users/harshbhatt/miniconda3/envs/qunta-backend/lib/python3.11/site-packages (from sympy==1.13.1->torch) (1.3.0)\n",
      "Requirement already satisfied: huggingface-hub<1.0,>=0.24.0 in /Users/harshbhatt/miniconda3/envs/qunta-backend/lib/python3.11/site-packages (from transformers) (0.29.1)\n",
      "Requirement already satisfied: numpy>=1.17 in /Users/harshbhatt/miniconda3/envs/qunta-backend/lib/python3.11/site-packages (from transformers) (1.26.4)\n",
      "Requirement already satisfied: packaging>=20.0 in /Users/harshbhatt/miniconda3/envs/qunta-backend/lib/python3.11/site-packages (from transformers) (24.1)\n",
      "Requirement already satisfied: pyyaml>=5.1 in /Users/harshbhatt/miniconda3/envs/qunta-backend/lib/python3.11/site-packages (from transformers) (6.0.1)\n",
      "Requirement already satisfied: regex!=2019.12.17 in /Users/harshbhatt/miniconda3/envs/qunta-backend/lib/python3.11/site-packages (from transformers) (2024.7.24)\n",
      "Requirement already satisfied: requests in /Users/harshbhatt/miniconda3/envs/qunta-backend/lib/python3.11/site-packages (from transformers) (2.32.3)\n",
      "Requirement already satisfied: tokenizers<0.22,>=0.21 in /Users/harshbhatt/miniconda3/envs/qunta-backend/lib/python3.11/site-packages (from transformers) (0.21.0)\n",
      "Requirement already satisfied: safetensors>=0.4.1 in /Users/harshbhatt/miniconda3/envs/qunta-backend/lib/python3.11/site-packages (from transformers) (0.4.3)\n",
      "Requirement already satisfied: tqdm>=4.27 in /Users/harshbhatt/miniconda3/envs/qunta-backend/lib/python3.11/site-packages (from transformers) (4.66.4)\n",
      "Requirement already satisfied: psutil in /Users/harshbhatt/miniconda3/envs/qunta-backend/lib/python3.11/site-packages (from accelerate) (5.9.0)\n",
      "Collecting pyarrow>=15.0.0 (from datasets)\n",
      "  Using cached pyarrow-19.0.1-cp311-cp311-macosx_12_0_arm64.whl.metadata (3.3 kB)\n",
      "Collecting dill<0.3.9,>=0.3.0 (from datasets)\n",
      "  Using cached dill-0.3.8-py3-none-any.whl.metadata (10 kB)\n",
      "Requirement already satisfied: pandas in /Users/harshbhatt/miniconda3/envs/qunta-backend/lib/python3.11/site-packages (from datasets) (2.2.3)\n",
      "Collecting xxhash (from datasets)\n",
      "  Using cached xxhash-3.5.0-cp311-cp311-macosx_11_0_arm64.whl.metadata (12 kB)\n",
      "Collecting multiprocess<0.70.17 (from datasets)\n",
      "  Using cached multiprocess-0.70.16-py311-none-any.whl.metadata (7.2 kB)\n",
      "Requirement already satisfied: aiohttp in /Users/harshbhatt/miniconda3/envs/qunta-backend/lib/python3.11/site-packages (from datasets) (3.9.5)\n",
      "Requirement already satisfied: aiosignal>=1.1.2 in /Users/harshbhatt/miniconda3/envs/qunta-backend/lib/python3.11/site-packages (from aiohttp->datasets) (1.3.1)\n",
      "Requirement already satisfied: attrs>=17.3.0 in /Users/harshbhatt/miniconda3/envs/qunta-backend/lib/python3.11/site-packages (from aiohttp->datasets) (23.2.0)\n",
      "Requirement already satisfied: frozenlist>=1.1.1 in /Users/harshbhatt/miniconda3/envs/qunta-backend/lib/python3.11/site-packages (from aiohttp->datasets) (1.4.1)\n",
      "Requirement already satisfied: multidict<7.0,>=4.5 in /Users/harshbhatt/miniconda3/envs/qunta-backend/lib/python3.11/site-packages (from aiohttp->datasets) (6.0.5)\n",
      "Requirement already satisfied: yarl<2.0,>=1.0 in /Users/harshbhatt/miniconda3/envs/qunta-backend/lib/python3.11/site-packages (from aiohttp->datasets) (1.9.4)\n",
      "Requirement already satisfied: charset-normalizer<4,>=2 in /Users/harshbhatt/miniconda3/envs/qunta-backend/lib/python3.11/site-packages (from requests->transformers) (3.3.2)\n",
      "Requirement already satisfied: idna<4,>=2.5 in /Users/harshbhatt/miniconda3/envs/qunta-backend/lib/python3.11/site-packages (from requests->transformers) (3.7)\n",
      "Requirement already satisfied: urllib3<3,>=1.21.1 in /Users/harshbhatt/miniconda3/envs/qunta-backend/lib/python3.11/site-packages (from requests->transformers) (2.2.2)\n",
      "Requirement already satisfied: certifi>=2017.4.17 in /Users/harshbhatt/miniconda3/envs/qunta-backend/lib/python3.11/site-packages (from requests->transformers) (2024.7.4)\n",
      "Requirement already satisfied: MarkupSafe>=2.0 in /Users/harshbhatt/miniconda3/envs/qunta-backend/lib/python3.11/site-packages (from jinja2->torch) (2.1.5)\n",
      "Requirement already satisfied: python-dateutil>=2.8.2 in /Users/harshbhatt/miniconda3/envs/qunta-backend/lib/python3.11/site-packages (from pandas->datasets) (2.9.0.post0)\n",
      "Requirement already satisfied: pytz>=2020.1 in /Users/harshbhatt/miniconda3/envs/qunta-backend/lib/python3.11/site-packages (from pandas->datasets) (2025.1)\n",
      "Requirement already satisfied: tzdata>=2022.7 in /Users/harshbhatt/miniconda3/envs/qunta-backend/lib/python3.11/site-packages (from pandas->datasets) (2024.1)\n",
      "Requirement already satisfied: markdown-it-py>=2.2.0 in /Users/harshbhatt/miniconda3/envs/qunta-backend/lib/python3.11/site-packages (from rich->trl) (3.0.0)\n",
      "Requirement already satisfied: pygments<3.0.0,>=2.13.0 in /Users/harshbhatt/miniconda3/envs/qunta-backend/lib/python3.11/site-packages (from rich->trl) (2.18.0)\n",
      "Requirement already satisfied: mdurl~=0.1 in /Users/harshbhatt/miniconda3/envs/qunta-backend/lib/python3.11/site-packages (from markdown-it-py>=2.2.0->rich->trl) (0.1.2)\n",
      "Requirement already satisfied: six>=1.5 in /Users/harshbhatt/miniconda3/envs/qunta-backend/lib/python3.11/site-packages (from python-dateutil>=2.8.2->pandas->datasets) (1.16.0)\n",
      "Downloading trl-0.15.2-py3-none-any.whl (318 kB)\n",
      "\u001b[2K   \u001b[90m━━━━━━━━━━━━━━━━━━━━━━━━━━━━━━━━━━━━━━━\u001b[0m \u001b[32m318.9/318.9 kB\u001b[0m \u001b[31m985.4 kB/s\u001b[0m eta \u001b[36m0:00:00\u001b[0m0:01\u001b[0m00:01\u001b[0mm\n",
      "\u001b[?25hUsing cached datasets-3.3.2-py3-none-any.whl (485 kB)\n",
      "Using cached dill-0.3.8-py3-none-any.whl (116 kB)\n",
      "Using cached multiprocess-0.70.16-py311-none-any.whl (143 kB)\n",
      "Using cached pyarrow-19.0.1-cp311-cp311-macosx_12_0_arm64.whl (30.7 MB)\n",
      "Using cached xxhash-3.5.0-cp311-cp311-macosx_11_0_arm64.whl (30 kB)\n",
      "Installing collected packages: xxhash, pyarrow, dill, multiprocess, datasets, trl\n",
      "  Attempting uninstall: dill\n",
      "    Found existing installation: dill 0.3.9\n",
      "    Uninstalling dill-0.3.9:\n",
      "      Successfully uninstalled dill-0.3.9\n",
      "Successfully installed datasets-3.3.2 dill-0.3.8 multiprocess-0.70.16 pyarrow-19.0.1 trl-0.15.2 xxhash-3.5.0\n"
     ]
    }
   ],
   "source": [
    "!pip install trl torch transformers accelerate datasets"
   ]
  },
  {
   "cell_type": "code",
   "execution_count": null,
   "metadata": {},
   "outputs": [
    {
     "data": {
      "application/vnd.jupyter.widget-view+json": {
       "model_id": "760f4429f6d344dba5c83f8c3c627bcd",
       "version_major": 2,
       "version_minor": 0
      },
      "text/plain": [
       "Resolving data files:   0%|          | 0/18 [00:00<?, ?it/s]"
      ]
     },
     "metadata": {},
     "output_type": "display_data"
    },
    {
     "data": {
      "application/vnd.jupyter.widget-view+json": {
       "model_id": "fcd112079d7d4925b2cce23f5ac75f81",
       "version_major": 2,
       "version_minor": 0
      },
      "text/plain": [
       "Resolving data files:   0%|          | 0/18 [00:00<?, ?it/s]"
      ]
     },
     "metadata": {},
     "output_type": "display_data"
    },
    {
     "data": {
      "application/vnd.jupyter.widget-view+json": {
       "model_id": "0e205d34cf3f4d5bad7d57a62b98813c",
       "version_major": 2,
       "version_minor": 0
      },
      "text/plain": [
       "Resolving data files:   0%|          | 0/18 [00:00<?, ?it/s]"
      ]
     },
     "metadata": {},
     "output_type": "display_data"
    },
    {
     "name": "stderr",
     "output_type": "stream",
     "text": [
      "Some weights of BertForSequenceClassification were not initialized from the model checkpoint at prajjwal1/bert-tiny and are newly initialized: ['classifier.bias', 'classifier.weight']\n",
      "You should probably TRAIN this model on a down-stream task to be able to use it for predictions and inference.\n"
     ]
    },
    {
     "data": {
      "application/vnd.jupyter.widget-view+json": {
       "model_id": "c136ccd604304991a806ef88b03b7639",
       "version_major": 2,
       "version_minor": 0
      },
      "text/plain": [
       "Map:   0%|          | 0/50 [00:00<?, ? examples/s]"
      ]
     },
     "metadata": {},
     "output_type": "display_data"
    },
    {
     "data": {
      "application/vnd.jupyter.widget-view+json": {
       "model_id": "5a27fd638fa843de864b0b311b4365b9",
       "version_major": 2,
       "version_minor": 0
      },
      "text/plain": [
       "  0%|          | 0/75 [00:00<?, ?it/s]"
      ]
     },
     "metadata": {},
     "output_type": "display_data"
    },
    {
     "ename": "",
     "evalue": "",
     "output_type": "error",
     "traceback": [
      "\u001b[1;31mThe Kernel crashed while executing code in the current cell or a previous cell. \n",
      "\u001b[1;31mPlease review the code in the cell(s) to identify a possible cause of the failure. \n",
      "\u001b[1;31mClick <a href='https://aka.ms/vscodeJupyterKernelCrash'>here</a> for more info. \n",
      "\u001b[1;31mView Jupyter <a href='command:jupyter.viewOutput'>log</a> for further details."
     ]
    }
   ],
   "source": [
    "import torch\n",
    "from datasets import load_dataset\n",
    "from transformers import AutoModelForSequenceClassification, AutoTokenizer, TrainingArguments, Trainer\n",
    "\n",
    "# Load a smaller human preference dataset (1% of SHP dataset)\n",
    "dataset = load_dataset(\"stanfordnlp/SHP\", split=\"train[:1%]\")\n",
    "\n",
    "# Load a pre-trained transformer model for reward scoring\n",
    "model_name = \"distilbert-base-uncased\"\n",
    "tokenizer = AutoTokenizer.from_pretrained(model_name)\n",
    "device = torch.device(\"cuda\" if torch.cuda.is_available() else \"mps\" if torch.backends.mps.is_available() else \"cpu\")\n",
    "model = AutoModelForSequenceClassification.from_pretrained(model_name, num_labels=1).to(device)\n",
    "\n",
    "# Tokenize dataset\n",
    "def preprocess(examples):\n",
    "    return tokenizer(examples[\"human_ref_A\"], truncation=True, padding=\"max_length\", max_length=512)\n",
    "\n",
    "tokenized_dataset = dataset.map(preprocess, batched=True)\n",
    "\n",
    "# Reduce dataset size for quick training\n",
    "train_dataset = tokenized_dataset.shuffle(seed=42).select(range(min(100, len(tokenized_dataset))))\n",
    "\n",
    "# Define training arguments\n",
    "training_args = TrainingArguments(\n",
    "    output_dir=\"./reward_model\",\n",
    "    evaluation_strategy=\"no\",\n",
    "    per_device_train_batch_size=4,\n",
    "    save_strategy=\"epoch\",\n",
    "    logging_steps=10,\n",
    "    report_to=\"none\",  # Avoids logging to WandB by default\n",
    ")\n",
    "\n",
    "# Initialize trainer\n",
    "trainer = Trainer(\n",
    "    model=model,\n",
    "    args=training_args,\n",
    "    train_dataset=train_dataset,\n",
    ")\n",
    "\n",
    "# Train the reward model\n",
    "trainer.train()\n"
   ]
  },
  {
   "cell_type": "code",
   "execution_count": null,
   "metadata": {},
   "outputs": [],
   "source": []
  }
 ],
 "metadata": {
  "kernelspec": {
   "display_name": "qunta-backend",
   "language": "python",
   "name": "python3"
  },
  "language_info": {
   "codemirror_mode": {
    "name": "ipython",
    "version": 3
   },
   "file_extension": ".py",
   "mimetype": "text/x-python",
   "name": "python",
   "nbconvert_exporter": "python",
   "pygments_lexer": "ipython3",
   "version": "3.11.9"
  }
 },
 "nbformat": 4,
 "nbformat_minor": 2
}
